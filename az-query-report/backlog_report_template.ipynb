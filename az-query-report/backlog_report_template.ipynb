{
 "cells": [
  {
   "cell_type": "markdown",
   "metadata": {},
   "source": [
    "# Prototype PBI Reporting"
   ]
  },
  {
   "cell_type": "code",
   "execution_count": null,
   "metadata": {},
   "outputs": [],
   "source": [
    "# %load_ext autoreload\n",
    "# %autoreload 2\n",
    "\n",
    "# import libraries\n",
    "import pandas as pd\n",
    "import src"
   ]
  },
  {
   "cell_type": "code",
   "execution_count": null,
   "metadata": {
    "tags": [
     "parameters"
    ]
   },
   "outputs": [],
   "source": [
    "# configuration\n",
    "# this needs to be a cell with the tag 'parameters'\n",
    "# https://papermill.readthedocs.io/en/latest/usage-parameterize.html#designate-parameters-for-a-cellsee \n",
    "\n",
    "csv_path = \"./PBI Reporting.csv\"\n",
    "\n",
    "overview_cols = [\"Work Item Type\", \"Title\", \"State\"]"
   ]
  },
  {
   "cell_type": "markdown",
   "metadata": {},
   "source": [
    "## OVERVIEW"
   ]
  },
  {
   "cell_type": "code",
   "execution_count": null,
   "metadata": {},
   "outputs": [],
   "source": [
    "items = pd.read_csv(csv_path, index_col=0)\n",
    "overview = src.get_clickable_items(items, overview_cols)\n",
    "overview"
   ]
  },
  {
   "cell_type": "markdown",
   "metadata": {},
   "source": [
    "## DETAILS"
   ]
  },
  {
   "cell_type": "code",
   "execution_count": null,
   "metadata": {},
   "outputs": [],
   "source": [
    "for i, row in items.iterrows():\n",
    "    ri = src.ReportItem(row)\n",
    "    ri.display_separtion_line()\n",
    "    ri.display_details_header()\n",
    "    ri.display_description_header()\n",
    "    ri.display_description()\n",
    "    ri.display_acceptance_criteria_header()\n",
    "    ri.display_acceptance_criteria()\n",
    "    ri.got_to_overview()\n",
    "ri.display_separtion_line()\n",
    "    "
   ]
  },
  {
   "cell_type": "code",
   "execution_count": null,
   "metadata": {},
   "outputs": [],
   "source": [
    "# DEBUG\n",
    "\"\"\"\n",
    "i = 1\n",
    "row = items.loc[i]\n",
    "\n",
    "ri = backlog_report.ReportItem(row)\n",
    "ri.get_description()\n",
    "\"\"\"\n",
    "None"
   ]
  }
 ],
 "metadata": {
  "celltoolbar": "Tags",
  "kernelspec": {
   "display_name": "Python 3",
   "language": "python",
   "name": "python3"
  },
  "language_info": {
   "codemirror_mode": {
    "name": "ipython",
    "version": 3
   },
   "file_extension": ".py",
   "mimetype": "text/x-python",
   "name": "python",
   "nbconvert_exporter": "python",
   "pygments_lexer": "ipython3",
   "version": "3.8.2"
  }
 },
 "nbformat": 4,
 "nbformat_minor": 4
}