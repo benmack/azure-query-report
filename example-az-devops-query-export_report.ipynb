{
 "cells": [
  {
   "cell_type": "markdown",
   "metadata": {
    "papermill": {
     "duration": 0.017073,
     "end_time": "2020-03-24T21:23:04.746304",
     "exception": false,
     "start_time": "2020-03-24T21:23:04.729231",
     "status": "completed"
    },
    "tags": []
   },
   "source": [
    "# Prototype PBI Reporting"
   ]
  },
  {
   "cell_type": "code",
   "execution_count": 1,
   "metadata": {
    "papermill": {
     "duration": 0.168691,
     "end_time": "2020-03-24T21:23:04.929947",
     "exception": false,
     "start_time": "2020-03-24T21:23:04.761256",
     "status": "completed"
    },
    "tags": []
   },
   "outputs": [],
   "source": [
    "# %load_ext autoreload\n",
    "# %autoreload 2\n",
    "\n",
    "# import libraries\n",
    "import pandas as pd\n",
    "import src"
   ]
  },
  {
   "cell_type": "code",
   "execution_count": 2,
   "metadata": {
    "papermill": {
     "duration": 0.008831,
     "end_time": "2020-03-24T21:23:04.941870",
     "exception": false,
     "start_time": "2020-03-24T21:23:04.933039",
     "status": "completed"
    },
    "tags": [
     "parameters"
    ]
   },
   "outputs": [],
   "source": [
    "# configuration\n",
    "# this needs to be a cell with the tag 'parameters'\n",
    "# https://papermill.readthedocs.io/en/latest/usage-parameterize.html#designate-parameters-for-a-cellsee \n",
    "\n",
    "csv_path = \"./PBI Reporting.csv\"\n",
    "\n",
    "overview_cols = [\"Work Item Type\", \"Title\", \"State\"]"
   ]
  },
  {
   "cell_type": "code",
   "execution_count": 3,
   "metadata": {
    "papermill": {
     "duration": 0.007436,
     "end_time": "2020-03-24T21:23:04.952336",
     "exception": false,
     "start_time": "2020-03-24T21:23:04.944900",
     "status": "completed"
    },
    "tags": [
     "injected-parameters"
    ]
   },
   "outputs": [],
   "source": [
    "# Parameters\n",
    "csv_path = (\n",
    "    \"/home/ben/Devel/Projects/azure-query-report/example-az-devops-query-export.csv\"\n",
    ")\n"
   ]
  },
  {
   "cell_type": "markdown",
   "metadata": {
    "papermill": {
     "duration": 0.003752,
     "end_time": "2020-03-24T21:23:04.959003",
     "exception": false,
     "start_time": "2020-03-24T21:23:04.955251",
     "status": "completed"
    },
    "tags": []
   },
   "source": [
    "## OVERVIEW"
   ]
  },
  {
   "cell_type": "code",
   "execution_count": 4,
   "metadata": {
    "papermill": {
     "duration": 0.04313,
     "end_time": "2020-03-24T21:23:05.005330",
     "exception": false,
     "start_time": "2020-03-24T21:23:04.962200",
     "status": "completed"
    },
    "tags": []
   },
   "outputs": [
    {
     "data": {
      "text/html": [
       "<style  type=\"text/css\" >\n",
       "</style><table id=\"T_a6338ba8_6e15_11ea_992a_dc8b28671e16\" ><thead>    <tr>        <th class=\"blank level0\" ></th>        <th class=\"col_heading level0 col0\" >Work Item Type</th>        <th class=\"col_heading level0 col1\" >Title</th>        <th class=\"col_heading level0 col2\" >State</th>    </tr>    <tr>        <th class=\"index_name level0\" >ID</th>        <th class=\"blank\" ></th>        <th class=\"blank\" ></th>        <th class=\"blank\" ></th>    </tr></thead><tbody>\n",
       "                <tr>\n",
       "                        <th id=\"T_a6338ba8_6e15_11ea_992a_dc8b28671e16level0_row0\" class=\"row_heading level0 row0\" >2</th>\n",
       "                        <td id=\"T_a6338ba8_6e15_11ea_992a_dc8b28671e16row0_col0\" class=\"data row0 col0\" >Product Backlog Item</td>\n",
       "                        <td id=\"T_a6338ba8_6e15_11ea_992a_dc8b28671e16row0_col1\" class=\"data row0 col1\" ><a href=\"#PBI-Template\">PBI Template</a></td>\n",
       "                        <td id=\"T_a6338ba8_6e15_11ea_992a_dc8b28671e16row0_col2\" class=\"data row0 col2\" >Done</td>\n",
       "            </tr>\n",
       "            <tr>\n",
       "                        <th id=\"T_a6338ba8_6e15_11ea_992a_dc8b28671e16level0_row1\" class=\"row_heading level0 row1\" >3</th>\n",
       "                        <td id=\"T_a6338ba8_6e15_11ea_992a_dc8b28671e16row1_col0\" class=\"data row1 col0\" >Product Backlog Item</td>\n",
       "                        <td id=\"T_a6338ba8_6e15_11ea_992a_dc8b28671e16row1_col1\" class=\"data row1 col1\" ><a href=\"#Document-PBI-export-process\">Document PBI export process</a></td>\n",
       "                        <td id=\"T_a6338ba8_6e15_11ea_992a_dc8b28671e16row1_col2\" class=\"data row1 col2\" >Done</td>\n",
       "            </tr>\n",
       "            <tr>\n",
       "                        <th id=\"T_a6338ba8_6e15_11ea_992a_dc8b28671e16level0_row2\" class=\"row_heading level0 row2\" >4</th>\n",
       "                        <td id=\"T_a6338ba8_6e15_11ea_992a_dc8b28671e16row2_col0\" class=\"data row2 col0\" >Product Backlog Item</td>\n",
       "                        <td id=\"T_a6338ba8_6e15_11ea_992a_dc8b28671e16row2_col1\" class=\"data row2 col1\" ><a href=\"#Build-PoC-for-PBI-reporting-with-Jupyter-Notebook\">Build PoC for PBI reporting with Jupyter Notebook</a></td>\n",
       "                        <td id=\"T_a6338ba8_6e15_11ea_992a_dc8b28671e16row2_col2\" class=\"data row2 col2\" >Committed</td>\n",
       "            </tr>\n",
       "    </tbody></table>"
      ],
      "text/plain": [
       "<pandas.io.formats.style.Styler at 0x7f63f8aceaf0>"
      ]
     },
     "execution_count": 4,
     "metadata": {},
     "output_type": "execute_result"
    }
   ],
   "source": [
    "items = pd.read_csv(csv_path, index_col=0)\n",
    "overview = src.get_clickable_items(items, overview_cols)\n",
    "overview"
   ]
  },
  {
   "cell_type": "markdown",
   "metadata": {
    "papermill": {
     "duration": 0.003477,
     "end_time": "2020-03-24T21:23:05.012582",
     "exception": false,
     "start_time": "2020-03-24T21:23:05.009105",
     "status": "completed"
    },
    "tags": []
   },
   "source": [
    "## DETAILS"
   ]
  },
  {
   "cell_type": "code",
   "execution_count": 5,
   "metadata": {
    "papermill": {
     "duration": 0.033154,
     "end_time": "2020-03-24T21:23:05.048908",
     "exception": false,
     "start_time": "2020-03-24T21:23:05.015754",
     "status": "completed"
    },
    "tags": []
   },
   "outputs": [
    {
     "data": {
      "text/markdown": [
       "---"
      ],
      "text/plain": [
       "<IPython.core.display.Markdown object>"
      ]
     },
     "metadata": {},
     "output_type": "display_data"
    },
    {
     "data": {
      "text/markdown": [
       "### PBI Template"
      ],
      "text/plain": [
       "<IPython.core.display.Markdown object>"
      ]
     },
     "metadata": {},
     "output_type": "display_data"
    },
    {
     "data": {
      "text/markdown": [
       "#### Description"
      ],
      "text/plain": [
       "<IPython.core.display.Markdown object>"
      ]
     },
     "metadata": {},
     "output_type": "display_data"
    },
    {
     "data": {
      "text/html": [
       "<div><span>As a team, we need a PBI template, such that when we create the report, we can separate user-facing information from internal-facing information programatically.<br></span><span></span></div><div><br></div>"
      ],
      "text/plain": [
       "<IPython.core.display.HTML object>"
      ]
     },
     "metadata": {},
     "output_type": "display_data"
    },
    {
     "data": {
      "text/markdown": [
       "#### Acceptance Criteria"
      ],
      "text/plain": [
       "<IPython.core.display.Markdown object>"
      ]
     },
     "metadata": {},
     "output_type": "display_data"
    },
    {
     "data": {
      "text/html": [
       "<div><ul><li>The PBI template is documented.</li></ul></div>"
      ],
      "text/plain": [
       "<IPython.core.display.HTML object>"
      ]
     },
     "metadata": {},
     "output_type": "display_data"
    },
    {
     "data": {
      "text/html": [
       "<a href=\"#OVERVIEW\">Back to OVERVIEW</a>"
      ],
      "text/plain": [
       "<IPython.core.display.HTML object>"
      ]
     },
     "metadata": {},
     "output_type": "display_data"
    },
    {
     "data": {
      "text/markdown": [
       "---"
      ],
      "text/plain": [
       "<IPython.core.display.Markdown object>"
      ]
     },
     "metadata": {},
     "output_type": "display_data"
    },
    {
     "data": {
      "text/markdown": [
       "### Document PBI export process"
      ],
      "text/plain": [
       "<IPython.core.display.Markdown object>"
      ]
     },
     "metadata": {},
     "output_type": "display_data"
    },
    {
     "data": {
      "text/markdown": [
       "#### Description"
      ],
      "text/plain": [
       "<IPython.core.display.Markdown object>"
      ]
     },
     "metadata": {},
     "output_type": "display_data"
    },
    {
     "data": {
      "text/html": [
       "<div>We need a standardized way to export the PBIs from Azure DevOps such that the conversion into a report works without flaws.</div><div><br></div><div><b></b></div><div><b></b></div>"
      ],
      "text/plain": [
       "<IPython.core.display.HTML object>"
      ]
     },
     "metadata": {},
     "output_type": "display_data"
    },
    {
     "data": {
      "text/markdown": [
       "#### Acceptance Criteria"
      ],
      "text/plain": [
       "<IPython.core.display.Markdown object>"
      ]
     },
     "metadata": {},
     "output_type": "display_data"
    },
    {
     "data": {
      "text/html": [
       "<div><ul><li>The export process is documented.</li><li>An example CSV is exported for initial development of the report builder.<br></li></ul></div>"
      ],
      "text/plain": [
       "<IPython.core.display.HTML object>"
      ]
     },
     "metadata": {},
     "output_type": "display_data"
    },
    {
     "data": {
      "text/html": [
       "<a href=\"#OVERVIEW\">Back to OVERVIEW</a>"
      ],
      "text/plain": [
       "<IPython.core.display.HTML object>"
      ]
     },
     "metadata": {},
     "output_type": "display_data"
    },
    {
     "data": {
      "text/markdown": [
       "---"
      ],
      "text/plain": [
       "<IPython.core.display.Markdown object>"
      ]
     },
     "metadata": {},
     "output_type": "display_data"
    },
    {
     "data": {
      "text/markdown": [
       "### Build PoC for PBI reporting with Jupyter Notebook"
      ],
      "text/plain": [
       "<IPython.core.display.Markdown object>"
      ]
     },
     "metadata": {},
     "output_type": "display_data"
    },
    {
     "data": {
      "text/markdown": [
       "#### Description"
      ],
      "text/plain": [
       "<IPython.core.display.Markdown object>"
      ]
     },
     "metadata": {},
     "output_type": "display_data"
    },
    {
     "data": {
      "text/html": [
       "<div><div>We want a prototype report build with a Jupyter Notebook to get a feeling if we can create reader-friendly reports.</div></div><div><br></div><div><b></b></div><div><b></b></div>"
      ],
      "text/plain": [
       "<IPython.core.display.HTML object>"
      ]
     },
     "metadata": {},
     "output_type": "display_data"
    },
    {
     "data": {
      "text/markdown": [
       "#### Acceptance Criteria"
      ],
      "text/plain": [
       "<IPython.core.display.Markdown object>"
      ]
     },
     "metadata": {},
     "output_type": "display_data"
    },
    {
     "data": {
      "text/html": [
       "<div><ul><li>Prototype Jupyter Notebook template to generate a PBI report from the CSV file.</li><li>Documentation: How to generate a report based on the template.<br></li><li>Prototype report based on a example CSV.<br></li></ul></div>"
      ],
      "text/plain": [
       "<IPython.core.display.HTML object>"
      ]
     },
     "metadata": {},
     "output_type": "display_data"
    },
    {
     "data": {
      "text/html": [
       "<a href=\"#OVERVIEW\">Back to OVERVIEW</a>"
      ],
      "text/plain": [
       "<IPython.core.display.HTML object>"
      ]
     },
     "metadata": {},
     "output_type": "display_data"
    },
    {
     "data": {
      "text/markdown": [
       "---"
      ],
      "text/plain": [
       "<IPython.core.display.Markdown object>"
      ]
     },
     "metadata": {},
     "output_type": "display_data"
    }
   ],
   "source": [
    "for i, row in items.iterrows():\n",
    "    ri = src.ReportItem(row)\n",
    "    ri.display_separtion_line()\n",
    "    ri.display_details_header()\n",
    "    ri.display_description_header()\n",
    "    ri.display_description()\n",
    "    ri.display_acceptance_criteria_header()\n",
    "    ri.display_acceptance_criteria()\n",
    "    ri.got_to_overview()\n",
    "ri.display_separtion_line()\n",
    "    "
   ]
  },
  {
   "cell_type": "code",
   "execution_count": 6,
   "metadata": {
    "papermill": {
     "duration": 0.014877,
     "end_time": "2020-03-24T21:23:05.075542",
     "exception": false,
     "start_time": "2020-03-24T21:23:05.060665",
     "status": "completed"
    },
    "tags": []
   },
   "outputs": [],
   "source": [
    "# DEBUG\n",
    "\"\"\"\n",
    "i = 1\n",
    "row = items.loc[i]\n",
    "\n",
    "ri = backlog_report.ReportItem(row)\n",
    "ri.get_description()\n",
    "\"\"\"\n",
    "None"
   ]
  }
 ],
 "metadata": {
  "celltoolbar": "Tags",
  "kernelspec": {
   "display_name": "Python 3",
   "language": "python",
   "name": "python3"
  },
  "language_info": {
   "codemirror_mode": {
    "name": "ipython",
    "version": 3
   },
   "file_extension": ".py",
   "mimetype": "text/x-python",
   "name": "python",
   "nbconvert_exporter": "python",
   "pygments_lexer": "ipython3",
   "version": "3.8.2"
  },
  "papermill": {
   "duration": 0.864444,
   "end_time": "2020-03-24T21:23:05.087341",
   "environment_variables": {},
   "exception": null,
   "input_path": "/home/ben/Devel/Projects/azure-query-report/az-query-report/backlog_report_template.ipynb",
   "output_path": "/home/ben/Devel/Projects/azure-query-report/example-az-devops-query-export_report.ipynb",
   "parameters": {
    "csv_path": "/home/ben/Devel/Projects/azure-query-report/example-az-devops-query-export.csv"
   },
   "start_time": "2020-03-24T21:23:04.222897",
   "version": "2.0.0"
  }
 },
 "nbformat": 4,
 "nbformat_minor": 4
}